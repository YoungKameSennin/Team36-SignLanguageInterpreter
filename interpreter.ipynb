{
 "cells": [
  {
   "cell_type": "code",
   "execution_count": 1,
   "metadata": {},
   "outputs": [
    {
     "name": "stderr",
     "output_type": "stream",
     "text": [
      "2023-05-20 14:48:51.311009: I tensorflow/core/platform/cpu_feature_guard.cc:193] This TensorFlow binary is optimized with oneAPI Deep Neural Network Library (oneDNN) to use the following CPU instructions in performance-critical operations:  SSE4.1 SSE4.2 AVX AVX2 FMA\n",
      "To enable them in other operations, rebuild TensorFlow with the appropriate compiler flags.\n"
     ]
    },
    {
     "name": "stdout",
     "output_type": "stream",
     "text": [
      "Found 2012 images belonging to 36 classes.\n",
      "Found 502 images belonging to 36 classes.\n"
     ]
    }
   ],
   "source": [
    "import os\n",
    "import numpy as np\n",
    "from keras.models import Sequential\n",
    "from keras.layers import Conv2D, MaxPooling2D, Flatten, Dense, Dropout\n",
    "from keras.preprocessing.image import ImageDataGenerator\n",
    "\n",
    "dataset_path = \"asl_dataset\"\n",
    "img_width, img_height = 160, 160\n",
    "num_classes = 36\n",
    "\n",
    "# Create an ImageDataGenerator for data augmentation and normalization\n",
    "datagen = ImageDataGenerator(rescale=1.0 / 255, validation_split=0.2)\n",
    "\n",
    "# Load and preprocess the training data\n",
    "train_generator = datagen.flow_from_directory(\n",
    "    dataset_path,\n",
    "    target_size=(img_width, img_height),\n",
    "    batch_size=30,\n",
    "    class_mode='categorical',\n",
    "    subset='training'\n",
    ")\n",
    "\n",
    "# Load and preprocess the validation data\n",
    "validation_generator = datagen.flow_from_directory(\n",
    "    dataset_path,\n",
    "    target_size=(img_width, img_height),\n",
    "    batch_size=30,\n",
    "    class_mode='categorical',\n",
    "    subset='validation'\n",
    ")"
   ]
  },
  {
   "cell_type": "code",
   "execution_count": 2,
   "metadata": {},
   "outputs": [],
   "source": [
    "\n",
    "# Define the CNN model architecture\n",
    "model = Sequential()\n",
    "model.add(Conv2D(32, (3, 3), activation='relu', input_shape=(img_width, img_height, 3)))\n",
    "model.add(MaxPooling2D(pool_size=(2, 2)))\n",
    "model.add(Conv2D(64, (3, 3), activation='relu'))\n",
    "model.add(MaxPooling2D(pool_size=(2, 2)))\n",
    "model.add(Flatten())\n",
    "model.add(Dense(128, activation='relu'))\n",
    "model.add(Dropout(0.5))\n",
    "model.add(Dense(num_classes, activation='softmax'))"
   ]
  },
  {
   "cell_type": "code",
   "execution_count": 3,
   "metadata": {},
   "outputs": [
    {
     "name": "stdout",
     "output_type": "stream",
     "text": [
      "Epoch 1/10\n",
      "67/67 [==============================] - 29s 428ms/step - loss: 2.3600 - accuracy: 0.3860 - val_loss: 0.8075 - val_accuracy: 0.7958\n",
      "Epoch 2/10\n",
      "67/67 [==============================] - 29s 434ms/step - loss: 0.7721 - accuracy: 0.7639 - val_loss: 0.4830 - val_accuracy: 0.8125\n",
      "Epoch 3/10\n",
      "67/67 [==============================] - 29s 431ms/step - loss: 0.3998 - accuracy: 0.8764 - val_loss: 0.5354 - val_accuracy: 0.8458\n",
      "Epoch 4/10\n",
      "67/67 [==============================] - 30s 445ms/step - loss: 0.3082 - accuracy: 0.9046 - val_loss: 0.5202 - val_accuracy: 0.8333\n",
      "Epoch 5/10\n",
      "67/67 [==============================] - 33s 494ms/step - loss: 0.1910 - accuracy: 0.9405 - val_loss: 0.4233 - val_accuracy: 0.8521\n",
      "Epoch 6/10\n",
      "67/67 [==============================] - 29s 426ms/step - loss: 0.1906 - accuracy: 0.9410 - val_loss: 0.4150 - val_accuracy: 0.8542\n",
      "Epoch 7/10\n",
      "67/67 [==============================] - 26s 391ms/step - loss: 0.1398 - accuracy: 0.9536 - val_loss: 0.3976 - val_accuracy: 0.8979\n",
      "Epoch 8/10\n",
      "67/67 [==============================] - 27s 402ms/step - loss: 0.1448 - accuracy: 0.9470 - val_loss: 0.5313 - val_accuracy: 0.8604\n",
      "Epoch 9/10\n",
      "67/67 [==============================] - 27s 407ms/step - loss: 0.1005 - accuracy: 0.9627 - val_loss: 0.5350 - val_accuracy: 0.8646\n",
      "Epoch 10/10\n",
      "67/67 [==============================] - 29s 436ms/step - loss: 0.1128 - accuracy: 0.9606 - val_loss: 0.4612 - val_accuracy: 0.8708\n"
     ]
    }
   ],
   "source": [
    "# Compile the model\n",
    "model.compile(optimizer='adam', loss='categorical_crossentropy', metrics=['accuracy'])\n",
    "\n",
    "# Train the model\n",
    "model.fit(\n",
    "    train_generator,\n",
    "    steps_per_epoch=train_generator.samples // train_generator.batch_size,\n",
    "    validation_data=validation_generator,\n",
    "    validation_steps=validation_generator.samples // validation_generator.batch_size,\n",
    "    epochs=10\n",
    ")\n",
    "\n",
    "# Save the trained model\n",
    "model.save(\"sign_language_model.h5\")"
   ]
  },
  {
   "cell_type": "code",
   "execution_count": 4,
   "metadata": {},
   "outputs": [
    {
     "name": "stdout",
     "output_type": "stream",
     "text": [
      "Found 502 images belonging to 36 classes.\n",
      "16/16 [==============================] - 2s 137ms/step - loss: 0.4492 - accuracy: 0.8705\n",
      "Test Loss: 0.44916149973869324\n",
      "Test Accuracy: 0.870517909526825\n"
     ]
    }
   ],
   "source": [
    "# Load the saved model\n",
    "from keras.models import load_model\n",
    "\n",
    "model = load_model(\"sign_language_model.h5\")\n",
    "\n",
    "# Load and preprocess the test data\n",
    "test_generator = datagen.flow_from_directory(\n",
    "    dataset_path,\n",
    "    target_size=(img_width, img_height),\n",
    "    batch_size=32,\n",
    "    class_mode='categorical',\n",
    "    subset='validation'\n",
    ")\n",
    "\n",
    "# Evaluate the model on the test data\n",
    "test_loss, test_accuracy = model.evaluate(test_generator)\n",
    "\n",
    "print(\"Test Loss:\", test_loss)\n",
    "print(\"Test Accuracy:\", test_accuracy)"
   ]
  },
  {
   "cell_type": "code",
   "execution_count": 5,
   "metadata": {},
   "outputs": [
    {
     "name": "stdout",
     "output_type": "stream",
     "text": [
      "16/16 [==============================] - 2s 131ms/step\n",
      "              precision    recall  f1-score   support\n",
      "\n",
      "           0       0.08      0.07      0.08        14\n",
      "           1       0.00      0.00      0.00        14\n",
      "           2       0.05      0.07      0.06        14\n",
      "           3       0.00      0.00      0.00        14\n",
      "           4       0.00      0.00      0.00        14\n",
      "           5       0.07      0.07      0.07        14\n",
      "           6       0.00      0.00      0.00        14\n",
      "           7       0.00      0.00      0.00        14\n",
      "           8       0.00      0.00      0.00        14\n",
      "           9       0.00      0.00      0.00        14\n",
      "          10       0.00      0.00      0.00        13\n",
      "          11       0.00      0.00      0.00        14\n",
      "          12       0.07      0.07      0.07        14\n",
      "          13       0.00      0.00      0.00        14\n",
      "          14       0.00      0.00      0.00        14\n",
      "          15       0.00      0.00      0.00        14\n",
      "          16       0.00      0.00      0.00        14\n",
      "          17       0.07      0.07      0.07        14\n",
      "          18       0.00      0.00      0.00        14\n",
      "          19       0.00      0.00      0.00        14\n",
      "          20       0.07      0.07      0.07        14\n",
      "          21       0.00      0.00      0.00        14\n",
      "          22       0.00      0.00      0.00        14\n",
      "          23       0.05      0.07      0.06        14\n",
      "          24       0.06      0.07      0.07        14\n",
      "          25       0.00      0.00      0.00        14\n",
      "          26       0.00      0.00      0.00        14\n",
      "          27       0.08      0.07      0.07        14\n",
      "          28       0.00      0.00      0.00        14\n",
      "          29       0.07      0.08      0.07        13\n",
      "          30       0.00      0.00      0.00        14\n",
      "          31       0.00      0.00      0.00        14\n",
      "          32       0.00      0.00      0.00        14\n",
      "          33       0.00      0.00      0.00        14\n",
      "          34       0.00      0.00      0.00        14\n",
      "          35       0.09      0.07      0.08        14\n",
      "\n",
      "    accuracy                           0.02       502\n",
      "   macro avg       0.02      0.02      0.02       502\n",
      "weighted avg       0.02      0.02      0.02       502\n",
      "\n"
     ]
    }
   ],
   "source": [
    "# Predict labels for the test data\n",
    "predictions = model.predict(test_generator)\n",
    "predicted_labels = np.argmax(predictions, axis=1)\n",
    "\n",
    "# Get the ground truth labels\n",
    "true_labels = test_generator.classes\n",
    "\n",
    "# Calculate precision, recall, and F1 score\n",
    "from sklearn.metrics import classification_report\n",
    "\n",
    "print(classification_report(true_labels, predicted_labels))"
   ]
  }
 ],
 "metadata": {
  "kernelspec": {
   "display_name": "base",
   "language": "python",
   "name": "python3"
  },
  "language_info": {
   "codemirror_mode": {
    "name": "ipython",
    "version": 3
   },
   "file_extension": ".py",
   "mimetype": "text/x-python",
   "name": "python",
   "nbconvert_exporter": "python",
   "pygments_lexer": "ipython3",
   "version": "3.10.9"
  },
  "orig_nbformat": 4
 },
 "nbformat": 4,
 "nbformat_minor": 2
}
